{
 "cells": [
  {
   "cell_type": "code",
   "execution_count": 117,
   "id": "db642bcf",
   "metadata": {},
   "outputs": [],
   "source": [
    "import math\n",
    "import numpy as np\n",
    "import h5py\n",
    "import matplotlib.pyplot as plt\n",
    "import scipy\n",
    "from PIL import Image\n",
    "from scipy import ndimage\n",
    "from cnn_utils import *\n",
    "import collections\n",
    "import datetime\n",
    "\n",
    "import torch\n",
    "import torch.nn as nn\n",
    "import torch.nn.functional as F\n",
    "import torch.optim as optim\n",
    "from torchvision import transforms\n",
    "\n",
    "torch.set_printoptions(edgeitems=2)\n",
    "torch.manual_seed(123)\n",
    "\n",
    "%matplotlib inline\n",
    "np.random.seed(1)"
   ]
  },
  {
   "cell_type": "code",
   "execution_count": 103,
   "id": "a5667232",
   "metadata": {},
   "outputs": [],
   "source": [
    "X_train_orig, Y_train_orig, X_test_orig, Y_test_orig, classes = load_dataset()"
   ]
  },
  {
   "cell_type": "code",
   "execution_count": 104,
   "id": "89e3b33a",
   "metadata": {},
   "outputs": [],
   "source": [
    "to_tensor = transforms.ToTensor()\n",
    "\n",
    "X_train = torch.zeros(X_train_orig.shape[0],\n",
    "                      X_train_orig.shape[3],\n",
    "                      X_train_orig.shape[1],\n",
    "                      X_train_orig.shape[2])\n",
    "for i in range(X_train.shape[0]):\n",
    "    X_train[i] = to_tensor(X_train_orig[i])\n",
    "\n",
    "X_test = torch.zeros(X_test_orig.shape[0],\n",
    "                     X_test_orig.shape[3],\n",
    "                     X_test_orig.shape[1],\n",
    "                     X_test_orig.shape[2])\n",
    "for i in range(X_test.shape[0]):\n",
    "    X_test[i] = to_tensor(X_test_orig[i])"
   ]
  },
  {
   "cell_type": "code",
   "execution_count": 105,
   "id": "0194d66b",
   "metadata": {},
   "outputs": [],
   "source": [
    "Y_train = torch.from_numpy(Y_train_orig).permute(1, 0)\n",
    "\n",
    "Y_test = torch.from_numpy(Y_test_orig).permute(1, 0)"
   ]
  },
  {
   "cell_type": "code",
   "execution_count": 106,
   "id": "4547967b",
   "metadata": {},
   "outputs": [
    {
     "data": {
      "text/plain": [
       "tensor([0.1538, 0.1998, 0.2221])"
      ]
     },
     "execution_count": 106,
     "metadata": {},
     "output_type": "execute_result"
    }
   ],
   "source": [
    "imgs = torch.stack([img_t for img_t in X_train], dim=3)\n",
    "\n",
    "imgs.view(3, -1).mean(dim=1)\n",
    "# 0.7630, 0.7105, 0.6634\n",
    "imgs.view(3, -1).std(dim=1)\n",
    "# 0.1538, 0.1998, 0.2221"
   ]
  },
  {
   "cell_type": "code",
   "execution_count": 107,
   "id": "7f3fdc2c",
   "metadata": {},
   "outputs": [],
   "source": [
    "normalize = transforms.Normalize((0.7630, 0.7105, 0.6634), (0.1538, 0.1998, 0.2221))"
   ]
  },
  {
   "cell_type": "code",
   "execution_count": 108,
   "id": "bb4066a8",
   "metadata": {},
   "outputs": [],
   "source": [
    "X_train = normalize(X_train)\n",
    "\n",
    "X_test = normalize(X_test)"
   ]
  },
  {
   "cell_type": "code",
   "execution_count": 111,
   "id": "d664110b",
   "metadata": {},
   "outputs": [],
   "source": [
    "data = [(X_train[i], Y_train.squeeze()[i])\n",
    "       for i in range(X_train.shape[0])]"
   ]
  },
  {
   "cell_type": "code",
   "execution_count": 112,
   "id": "3f05b9f6",
   "metadata": {},
   "outputs": [],
   "source": [
    "data_val = [(X_test[i], Y_test.squeeze()[i])\n",
    "       for i in range(X_test.shape[0])]"
   ]
  },
  {
   "cell_type": "code",
   "execution_count": 164,
   "id": "d34c09e5",
   "metadata": {},
   "outputs": [],
   "source": [
    "class Net(nn.Module):\n",
    "    def __init__(self, n_chans1=16):\n",
    "        super().__init__()\n",
    "        self.n_chans1 = n_chans1\n",
    "        self.conv1 = nn.Conv2d(3, n_chans1, kernel_size=3, padding=1)\n",
    "        self.act1 = nn.ReLU()\n",
    "        self.conv2 = nn.Conv2d(n_chans1, n_chans1 // 2, kernel_size=3, padding=1)\n",
    "        self.act2 = nn.ReLU()\n",
    "        self.fc1 = nn.Linear(n_chans1 // 2 * 8 * 8, 32)\n",
    "        self.act3 = nn.ReLU()\n",
    "        self.fc2 = nn.Linear(32, 6)\n",
    "        \n",
    "    def forward(self, x):\n",
    "        out = F.max_pool2d(self.act1(self.conv1(x)), 4)\n",
    "        out = F.max_pool2d(self.act2(self.conv2(out)), 2)\n",
    "        out = out.view(-1, self.n_chans1 // 2 * 8 * 8)\n",
    "        out = self.act3(self.fc1(out))\n",
    "        out = self.fc2(out)\n",
    "        return out"
   ]
  },
  {
   "cell_type": "code",
   "execution_count": 165,
   "id": "6b212260",
   "metadata": {},
   "outputs": [],
   "source": [
    "def training_loop(n_epochs, optimizer, model, loss_fn,\n",
    "                 train_loader, val_loader):\n",
    "    L_train = []\n",
    "    L_val = []\n",
    "    for epoch in range(1, n_epochs + 1):\n",
    "        loss_train = 0.0\n",
    "        for imgs_train, labels_train in train_loader:\n",
    "            imgs_train = imgs_train.to(device=device)\n",
    "            labels_train = labels_train.to(device=device)\n",
    "            outputs = model(imgs_train)\n",
    "            loss = loss_fn(outputs, labels_train)\n",
    "            \n",
    "            l2_lambda = 0.001\n",
    "            l2_norm = sum(p.pow(2.0).sum()\n",
    "                         for p in model.parameters())\n",
    "            loss = loss + l2_lambda * l2_norm\n",
    "            \n",
    "            optimizer.zero_grad()\n",
    "            loss.backward()\n",
    "            optimizer.step()\n",
    "            \n",
    "            loss_train += loss.item()\n",
    "        if epoch == 1 or epoch % 10 == 0:\n",
    "            L_train.append(loss_train / len(train_loader))\n",
    "            \n",
    "            with torch.no_grad():\n",
    "                loss_val = 0.0\n",
    "                for imgs_val, labels_val in val_loader:\n",
    "                    imgs_val = imgs_val.to(device=device)\n",
    "                    labels_val = labels_val.to(device=device)\n",
    "                    outputs = model(imgs_val)\n",
    "                    loss = loss_fn(outputs, labels_val)\n",
    "                    \n",
    "                    l2_lambda = 0.001\n",
    "                    l2_norm = sum(p.pow(2.0).sum()\n",
    "                                 for p in model.parameters())\n",
    "                    loss = loss + l2_lambda * l2_norm\n",
    "                    loss_val += loss.item()\n",
    "                L_val.append(loss_val / len(val_loader))\n",
    "                print('{} Epoch {}, Training loss {}, Validating loss {}'.format(\n",
    "                     datetime.datetime.now(), epoch,\n",
    "                     loss_train / len(train_loader),\n",
    "                     loss_val / len(val_loader)))\n",
    "    return L_train, L_val"
   ]
  },
  {
   "cell_type": "code",
   "execution_count": 166,
   "id": "75e99e47",
   "metadata": {},
   "outputs": [
    {
     "name": "stdout",
     "output_type": "stream",
     "text": [
      "Training on device cuda.\n"
     ]
    }
   ],
   "source": [
    "device = (torch.device('cuda') if torch.cuda.is_available()\n",
    "         else torch.device('cpu'))\n",
    "print(f\"Training on device {device}.\")"
   ]
  },
  {
   "cell_type": "code",
   "execution_count": 173,
   "id": "56f0518f",
   "metadata": {},
   "outputs": [
    {
     "name": "stdout",
     "output_type": "stream",
     "text": [
      "2023-08-07 00:23:31.905182 Epoch 1, Training loss 1.8110463619232178, Validating loss 1.8097485939661662\n",
      "2023-08-07 00:23:32.579334 Epoch 10, Training loss 1.700296451063717, Validating loss 1.6937270164489746\n",
      "2023-08-07 00:23:33.399519 Epoch 20, Training loss 1.235938871608061, Validating loss 1.2467288057009378\n",
      "2023-08-07 00:23:34.146688 Epoch 30, Training loss 0.900868205463185, Validating loss 0.933434788386027\n",
      "2023-08-07 00:23:34.900858 Epoch 40, Training loss 0.7326684734400581, Validating loss 0.7800907870133718\n",
      "2023-08-07 00:23:35.649581 Epoch 50, Training loss 0.620911089813008, Validating loss 0.6671832819779714\n",
      "2023-08-07 00:23:36.421756 Epoch 60, Training loss 0.5358743054025313, Validating loss 0.5953455964724222\n",
      "2023-08-07 00:23:37.181474 Epoch 70, Training loss 0.4758288386990042, Validating loss 0.5488920410474142\n",
      "2023-08-07 00:23:37.951189 Epoch 80, Training loss 0.4281097475220175, Validating loss 0.5212363004684448\n",
      "2023-08-07 00:23:38.720363 Epoch 90, Training loss 0.3942176524330588, Validating loss 0.4960155874490738\n",
      "2023-08-07 00:23:39.497538 Epoch 100, Training loss 0.3618137713740854, Validating loss 0.49447783331076306\n",
      "2023-08-07 00:23:40.233704 Epoch 110, Training loss 0.33528300944496603, Validating loss 0.4818224340677261\n",
      "2023-08-07 00:23:40.977425 Epoch 120, Training loss 0.3092856450992472, Validating loss 0.47937561720609667\n",
      "2023-08-07 00:23:41.715591 Epoch 130, Training loss 0.2869691603323993, Validating loss 0.4638667037089666\n",
      "2023-08-07 00:23:42.482764 Epoch 140, Training loss 0.2665669190533021, Validating loss 0.4621179699897766\n",
      "2023-08-07 00:23:43.250938 Epoch 150, Training loss 0.24759378853966207, Validating loss 0.44758551667133967\n",
      "2023-08-07 00:23:43.990658 Epoch 160, Training loss 0.23234608155839584, Validating loss 0.4440703938404719\n",
      "2023-08-07 00:23:44.733825 Epoch 170, Training loss 0.21600893315146952, Validating loss 0.44429936359326044\n",
      "2023-08-07 00:23:45.471992 Epoch 180, Training loss 0.20152510702610016, Validating loss 0.44601636454463006\n",
      "2023-08-07 00:23:46.211158 Epoch 190, Training loss 0.18760603534824707, Validating loss 0.43418193111817044\n",
      "2023-08-07 00:23:46.952174 Epoch 200, Training loss 0.17539943360230503, Validating loss 0.4445788482824961\n",
      "2023-08-07 00:23:47.691341 Epoch 210, Training loss 0.16325724869966507, Validating loss 0.45242316648364067\n",
      "2023-08-07 00:23:48.456514 Epoch 220, Training loss 0.15291662996306138, Validating loss 0.4347176790237427\n",
      "2023-08-07 00:23:49.195680 Epoch 230, Training loss 0.14440833601881475, Validating loss 0.4515755611161391\n",
      "2023-08-07 00:23:49.961410 Epoch 240, Training loss 0.13546941166414933, Validating loss 0.4401567650338014\n",
      "2023-08-07 00:23:50.700577 Epoch 250, Training loss 0.12918704660499797, Validating loss 0.454609548052152\n",
      "2023-08-07 00:23:51.446745 Epoch 260, Training loss 0.11932793697890114, Validating loss 0.4518822426597277\n",
      "2023-08-07 00:23:52.214919 Epoch 270, Training loss 0.11410202787202947, Validating loss 0.4563647747039795\n",
      "2023-08-07 00:23:52.961627 Epoch 280, Training loss 0.10807632085155039, Validating loss 0.44808780029416084\n",
      "2023-08-07 00:23:53.698794 Epoch 290, Training loss 0.10041425245649674, Validating loss 0.45953722049792606\n",
      "2023-08-07 00:23:54.439231 Epoch 300, Training loss 0.10014380777583402, Validating loss 0.4617896204193433\n",
      "2023-08-07 00:23:55.179398 Epoch 310, Training loss 0.09325059547143824, Validating loss 0.4727908785144488\n",
      "2023-08-07 00:23:55.918386 Epoch 320, Training loss 0.08879964667208054, Validating loss 0.4500963121652603\n",
      "2023-08-07 00:23:56.655640 Epoch 330, Training loss 0.08157480113646563, Validating loss 0.4637861135105292\n",
      "2023-08-07 00:23:57.393806 Epoch 340, Training loss 0.07839084745329969, Validating loss 0.4937699670592944\n",
      "2023-08-07 00:23:58.129973 Epoch 350, Training loss 0.07339787614696167, Validating loss 0.4980919266740481\n",
      "2023-08-07 00:23:58.899146 Epoch 360, Training loss 0.07039329124724164, Validating loss 0.4758680105209351\n",
      "2023-08-07 00:23:59.635858 Epoch 370, Training loss 0.06947896629571915, Validating loss 0.5045904671152432\n",
      "2023-08-07 00:24:00.441040 Epoch 380, Training loss 0.06561872385003988, Validating loss 0.5108755625784397\n",
      "2023-08-07 00:24:01.229218 Epoch 390, Training loss 0.06365227041875615, Validating loss 0.5033690926929315\n",
      "2023-08-07 00:24:02.014924 Epoch 400, Training loss 0.06178120260729509, Validating loss 0.5114963941276074\n",
      "2023-08-07 00:24:02.768094 Epoch 410, Training loss 0.05937569960951805, Validating loss 0.5350972724457582\n",
      "2023-08-07 00:24:03.505261 Epoch 420, Training loss 0.05741155695389299, Validating loss 0.5156633719801903\n",
      "2023-08-07 00:24:04.273434 Epoch 430, Training loss 0.055499408613233006, Validating loss 0.5354336589574814\n",
      "2023-08-07 00:24:05.013148 Epoch 440, Training loss 0.05459238435415661, Validating loss 0.5584131623307864\n",
      "2023-08-07 00:24:05.762857 Epoch 450, Training loss 0.05245600859908497, Validating loss 0.5397688115636508\n",
      "2023-08-07 00:24:06.520028 Epoch 460, Training loss 0.05224853096639409, Validating loss 0.544976694136858\n",
      "2023-08-07 00:24:07.258746 Epoch 470, Training loss 0.050346718114965106, Validating loss 0.5570262797176838\n",
      "2023-08-07 00:24:08.027449 Epoch 480, Training loss 0.049780464566805786, Validating loss 0.5502862267196178\n",
      "2023-08-07 00:24:08.765615 Epoch 490, Training loss 0.04910258663927808, Validating loss 0.5769772574305534\n",
      "2023-08-07 00:24:09.529788 Epoch 500, Training loss 0.04793423436143819, Validating loss 0.5810877047479153\n",
      "2023-08-07 00:24:10.268955 Epoch 510, Training loss 0.04737761550966431, Validating loss 0.5802734571198622\n",
      "2023-08-07 00:24:11.011122 Epoch 520, Training loss 0.04687104396083776, Validating loss 0.5779034982124964\n",
      "2023-08-07 00:24:11.753835 Epoch 530, Training loss 0.04670541733503342, Validating loss 0.5840183367331823\n",
      "2023-08-07 00:24:12.493002 Epoch 540, Training loss 0.04570418201825198, Validating loss 0.5870310828089714\n",
      "2023-08-07 00:24:13.262176 Epoch 550, Training loss 0.04579302515177166, Validating loss 0.5907018177211285\n",
      "2023-08-07 00:24:14.004343 Epoch 560, Training loss 0.04507454002604765, Validating loss 0.5950975276529789\n",
      "2023-08-07 00:24:14.745069 Epoch 570, Training loss 0.04449760870021932, Validating loss 0.6061687481900057\n",
      "2023-08-07 00:24:15.516243 Epoch 580, Training loss 0.04427093464662047, Validating loss 0.6194161089758078\n",
      "2023-08-07 00:24:16.258411 Epoch 590, Training loss 0.04353658197557225, Validating loss 0.6154953934252262\n",
      "2023-08-07 00:24:16.998115 Epoch 600, Training loss 0.043351233224658406, Validating loss 0.6258101197580497\n",
      "2023-08-07 00:24:17.785829 Epoch 610, Training loss 0.04336262603892999, Validating loss 0.6264059737324714\n",
      "2023-08-07 00:24:18.564005 Epoch 620, Training loss 0.04277388357064303, Validating loss 0.6109849082926909\n",
      "2023-08-07 00:24:19.367186 Epoch 630, Training loss 0.0422823746853015, Validating loss 0.6268945532540481\n",
      "2023-08-07 00:24:20.162895 Epoch 640, Training loss 0.04192096345564898, Validating loss 0.6195835769176483\n",
      "2023-08-07 00:24:20.975078 Epoch 650, Training loss 0.041588396272238565, Validating loss 0.6125316289563973\n",
      "2023-08-07 00:24:21.826271 Epoch 660, Training loss 0.04124527643708622, Validating loss 0.6056991842885812\n",
      "2023-08-07 00:24:22.625451 Epoch 670, Training loss 0.04091259749496684, Validating loss 0.6313599027693272\n",
      "2023-08-07 00:24:23.368619 Epoch 680, Training loss 0.04060380204635508, Validating loss 0.6190193501611551\n",
      "2023-08-07 00:24:24.110786 Epoch 690, Training loss 0.0405631014967666, Validating loss 0.6207435856262843\n",
      "2023-08-07 00:24:24.853954 Epoch 700, Training loss 0.040011493160444146, Validating loss 0.611334444085757\n"
     ]
    }
   ],
   "source": [
    "train_loader = torch.utils.data.DataLoader(data, batch_size=64,\n",
    "                                          shuffle=True)\n",
    "val_loader = torch.utils.data.DataLoader(data_val, batch_size=8,\n",
    "                                        shuffle=True)\n",
    "model = Net().to(device=device)\n",
    "model.train()\n",
    "optimizer = optim.Adam(model.parameters(), lr=5e-5)\n",
    "loss_fn = nn.CrossEntropyLoss()\n",
    "\n",
    "L_train, L_val = training_loop(n_epochs=700, \n",
    "              optimizer=optimizer,\n",
    "              model=model, \n",
    "              loss_fn=loss_fn,\n",
    "              train_loader=train_loader,\n",
    "              val_loader=val_loader,\n",
    "              )"
   ]
  },
  {
   "cell_type": "code",
   "execution_count": 174,
   "id": "7beeb9fe",
   "metadata": {},
   "outputs": [
    {
     "name": "stdout",
     "output_type": "stream",
     "text": [
      "Accuracy train: 1.00\n",
      "Accuracy val: 0.92\n"
     ]
    }
   ],
   "source": [
    "train_loader = torch.utils.data.DataLoader(data, batch_size=64,\n",
    "                                           shuffle=False)\n",
    "val_loader = torch.utils.data.DataLoader(data_val, batch_size=64,\n",
    "                                         shuffle=False)\n",
    "all_acc_dict = collections.OrderedDict()\n",
    "\n",
    "def validate(model, train_loader, val_loader):\n",
    "    accdict = {}\n",
    "    for name, loader in [(\"train\", train_loader), (\"val\", val_loader)]:\n",
    "        correct = 0\n",
    "        total = 0\n",
    "\n",
    "        with torch.no_grad():\n",
    "            for imgs, labels in loader:\n",
    "                imgs = imgs.to(device=device)\n",
    "                labels = labels.to(device=device)\n",
    "                outputs = model(imgs)\n",
    "                _, predicted = torch.max(outputs, dim=1) # <1>\n",
    "                total += labels.shape[0]\n",
    "                correct += int((predicted == labels).sum())\n",
    "\n",
    "        print(\"Accuracy {}: {:.2f}\".format(name , correct / total))\n",
    "        accdict[name] = correct / total\n",
    "    return accdict\n",
    "\n",
    "all_acc_dict[\"baseline\"] = validate(model, train_loader, val_loader)"
   ]
  },
  {
   "cell_type": "code",
   "execution_count": 175,
   "id": "f234d1fa",
   "metadata": {},
   "outputs": [
    {
     "data": {
      "image/png": "[encoded data removed]",
      "text/plain": [
       "<Figure size 640x480 with 1 Axes>"
      ]
     },
     "metadata": {},
     "output_type": "display_data"
    }
   ],
   "source": [
    "plt.plot(L_train)\n",
    "plt.plot(L_val)\n",
    "plt.ylabel('cost')\n",
    "plt.xlabel('iterations (per tens)')\n",
    "plt.title(\"Learning rate =\" + str(0.00009))\n",
    "plt.show()"
   ]
  },
  {
   "cell_type": "code",
   "execution_count": null,
   "id": "9d499f81",
   "metadata": {},
   "outputs": [],
   "source": []
  }
 ],
 "metadata": {
  "kernelspec": {
   "display_name": "Python 3 (ipykernel)",
   "language": "python",
   "name": "python3"
  },
  "language_info": {
   "codemirror_mode": {
    "name": "ipython",
    "version": 3
   },
   "file_extension": ".py",
   "mimetype": "text/x-python",
   "name": "python",
   "nbconvert_exporter": "python",
   "pygments_lexer": "ipython3",
   "version": "3.11.4"
  }
 },
 "nbformat": 4,
 "nbformat_minor": 5
}
